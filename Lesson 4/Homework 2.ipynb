{
 "cells": [
  {
   "cell_type": "markdown",
   "metadata": {},
   "source": [
    "### Exercise 1 \n",
    "\n",
    "Write a program that takes as input a list of student grades. A student grade can be either A/B/C/D/F. output the number of students having each grade.\n",
    "\n",
    "Example:\n",
    "\n",
    "- input = ['A', 'A', 'B', 'C', 'C', 'C', 'D','F','F']\n",
    "\n",
    "output:\n",
    "\n",
    "- A: 2 Students\n",
    "- B: 1 Student\n",
    "- C: 3 Students\n",
    "- D: 1 Student\n",
    "- F: 2 students\n",
    "\n"
   ]
  },
  {
   "cell_type": "markdown",
   "metadata": {},
   "source": [
    "### Exercise 2 Sorting a list\n",
    "\n",
    "- Write a program that takes as input a list, sort the list in an ascending order and print it out to user\n",
    "\n",
    "\n",
    "Example:\n",
    "\n",
    "- list = [5,2,10,1], output = [1,2,5,10]\n"
   ]
  },
  {
   "cell_type": "code",
   "execution_count": null,
   "metadata": {
    "collapsed": true
   },
   "outputs": [],
   "source": []
  }
 ],
 "metadata": {
  "kernelspec": {
   "display_name": "Python 2.7",
   "language": "python",
   "name": "env27"
  },
  "language_info": {
   "codemirror_mode": {
    "name": "ipython",
    "version": 2
   },
   "file_extension": ".py",
   "mimetype": "text/x-python",
   "name": "python",
   "nbconvert_exporter": "python",
   "pygments_lexer": "ipython2",
   "version": "2.7.13"
  }
 },
 "nbformat": 4,
 "nbformat_minor": 2
}
