{
 "cells": [
  {
   "cell_type": "markdown",
   "metadata": {},
   "source": [
    "### Exercise 2  - Biggest of two numbers - Are these programs equivalent? Why"
   ]
  },
  {
   "cell_type": "code",
   "execution_count": null,
   "metadata": {},
   "outputs": [],
   "source": [
    "### program 1\n",
    "\n",
    "x = 10\n",
    "y = 5\n",
    "if(x > y):\n",
    "    print('x is bigger')\n",
    "elif (y < x):\n",
    "    print('y is bigger')\n",
    "else:\n",
    "    print('equal')\n",
    "    "
   ]
  },
  {
   "cell_type": "code",
   "execution_count": null,
   "metadata": {
    "collapsed": true
   },
   "outputs": [],
   "source": [
    "### program 2\n",
    "x = 10\n",
    "y = 5\n",
    "if (x = y):\n",
    "    print('equal')\n",
    "elif(x > y):\n",
    "    print('x is bigger')\n",
    "else:\n",
    "    print('y is bigger')\n"
   ]
  },
  {
   "cell_type": "code",
   "execution_count": null,
   "metadata": {},
   "outputs": [],
   "source": [
    "## program 3\n",
    "diff = x - y\n",
    "if (diff == 0):\n",
    "    print('equal')\n",
    "elif(diff > 0):\n",
    "    print('x is bigger')\n",
    "else:\n",
    "    print('y is bigger')\n"
   ]
  },
  {
   "cell_type": "markdown",
   "metadata": {},
   "source": [
    "### Exercise 3 - Absolute number\n",
    "\n",
    "Write a program that calculates the absolute value of a number\n",
    "\n",
    "Example:\n",
    "    - num = 10, output = 10\n",
    "    - num = -10, output = 10\n",
    "    \n",
    "(the absolute of a positive number is just the same number, the absolute of negative number is the positive version of number)\n",
    "    \n",
    "\n"
   ]
  },
  {
   "cell_type": "markdown",
   "metadata": {},
   "source": [
    "### Exercise 4 - Repeat the text\n",
    "\n",
    "write a program which takes as input text and a number n, and prints out the text repeated n times\n",
    "\n",
    "Example:\n",
    "    - text = 'hello', n = 3, outputs => hello hello hello\n",
    "    - text= 'hi', n = 2, outputs => hi hi\n",
    "Hint:\n",
    " Check string operations from last lecture\n",
    "    "
   ]
  },
  {
   "cell_type": "markdown",
   "metadata": {},
   "source": [
    "### Exercise 5 - Sum from 1 to n\n",
    "\n",
    "write a program that takes a number as input and outputs the sum from 1 to this number.\n",
    "\n",
    "Example:\n",
    "    n= 5, output= 1 + 2 + 3 + 4 + 5 = 15"
   ]
  },
  {
   "cell_type": "markdown",
   "metadata": {},
   "source": [
    "### Strings & Lists -  Revisiting"
   ]
  },
  {
   "cell_type": "code",
   "execution_count": null,
   "metadata": {
    "collapsed": true
   },
   "outputs": [],
   "source": [
    "text = 'hello'"
   ]
  },
  {
   "cell_type": "code",
   "execution_count": null,
   "metadata": {},
   "outputs": [],
   "source": [
    "## get first character of string\n",
    "text[0]"
   ]
  },
  {
   "cell_type": "code",
   "execution_count": null,
   "metadata": {
    "collapsed": true
   },
   "outputs": [],
   "source": [
    "## get length of string"
   ]
  },
  {
   "cell_type": "code",
   "execution_count": null,
   "metadata": {},
   "outputs": [],
   "source": [
    "len(text)"
   ]
  },
  {
   "cell_type": "code",
   "execution_count": null,
   "metadata": {},
   "outputs": [],
   "source": [
    "## get last character of string\n",
    "text[4]"
   ]
  },
  {
   "cell_type": "code",
   "execution_count": null,
   "metadata": {
    "collapsed": true
   },
   "outputs": [],
   "source": [
    "list_numbers = [1, 2, 3, 4, 10]"
   ]
  },
  {
   "cell_type": "code",
   "execution_count": null,
   "metadata": {},
   "outputs": [],
   "source": [
    "list_numbers[0]"
   ]
  },
  {
   "cell_type": "code",
   "execution_count": null,
   "metadata": {},
   "outputs": [],
   "source": [
    "len(list_numbers)"
   ]
  },
  {
   "cell_type": "code",
   "execution_count": null,
   "metadata": {},
   "outputs": [],
   "source": [
    "list_numbers[4]"
   ]
  },
  {
   "cell_type": "code",
   "execution_count": 28,
   "metadata": {},
   "outputs": [
    {
     "data": {
      "text/plain": [
       "'hello....'"
      ]
     },
     "execution_count": 28,
     "metadata": {},
     "output_type": "execute_result"
    }
   ],
   "source": [
    "text + '....'"
   ]
  },
  {
   "cell_type": "code",
   "execution_count": 29,
   "metadata": {},
   "outputs": [
    {
     "data": {
      "text/plain": [
       "[1, 2, 3, 4, 10, 11, 12, 13]"
      ]
     },
     "execution_count": 29,
     "metadata": {},
     "output_type": "execute_result"
    }
   ],
   "source": [
    "list_numbers + [11,12,13]"
   ]
  },
  {
   "cell_type": "code",
   "execution_count": 41,
   "metadata": {},
   "outputs": [
    {
     "name": "stdout",
     "output_type": "stream",
     "text": [
      "text contains ell\n"
     ]
    }
   ],
   "source": [
    "substring = 'ell'\n",
    "if(substring in text):\n",
    "    print 'text contains ell'"
   ]
  },
  {
   "cell_type": "code",
   "execution_count": 42,
   "metadata": {},
   "outputs": [
    {
     "name": "stdout",
     "output_type": "stream",
     "text": [
      "list contains 1\n"
     ]
    }
   ],
   "source": [
    "num = 1\n",
    "if(num in list_numbers):\n",
    "    print 'list contains 1'"
   ]
  },
  {
   "cell_type": "markdown",
   "metadata": {},
   "source": [
    "###  Exercise 6 - Are these 3 programs equivalent ? Why?"
   ]
  },
  {
   "cell_type": "code",
   "execution_count": null,
   "metadata": {},
   "outputs": [],
   "source": [
    "### Program 1\n",
    "text = 'hello'\n",
    "\n",
    "for letter in text:\n",
    "    print(letter)"
   ]
  },
  {
   "cell_type": "code",
   "execution_count": null,
   "metadata": {},
   "outputs": [],
   "source": [
    "## Program 2\n",
    "count = 0 \n",
    "while count < len(text):\n",
    "    print(text[count])\n",
    "    count = count + 1\n",
    "    "
   ]
  },
  {
   "cell_type": "code",
   "execution_count": null,
   "metadata": {},
   "outputs": [],
   "source": [
    "letters = ['h','e','l','l','o']\n",
    "count = 0\n",
    "\n",
    "while count <= len(letters)-1:\n",
    "    print(letters[count])\n",
    "    count = count + 1 \n"
   ]
  },
  {
   "cell_type": "markdown",
   "metadata": {
    "collapsed": true
   },
   "source": [
    "### Exercise 7 - Occurrences of a letter in text\n",
    "Write a program that takes a text from user and a letter, and output the number of occurrences of that letter in the string. **Use while loop and not for loop!**\n",
    "\n",
    "Hint:\n",
    "- you can use len() to know the # of characters of the string.\n",
    "- Example:\n",
    "    - len('hello') gives as output 5\n"
   ]
  },
  {
   "cell_type": "markdown",
   "metadata": {},
   "source": [
    "### Exercise 8 - Reverse a string\n",
    "\n",
    "Write a program which takes a text string from user, and prints out the reverse string.\n",
    "\n",
    "Example:\n",
    "- text = 'hello', output = 'olleh'"
   ]
  },
  {
   "cell_type": "markdown",
   "metadata": {},
   "source": [
    "\n",
    "### Exercise 10 - Year by Year Balance\n",
    "\n",
    "You have amount X saved in the bank. Each year your balance in the bank increases by interest rate 2%\n",
    "\n",
    "Example:\n",
    "    - if in 2016 you had an amount 100 euros in the bank\n",
    "    - in 2017, it will be 102\n",
    "    - in 2018, it will be 104.04\n",
    "\n",
    "Assuming the amount in the bank doesn't change (you do not spend from it or add to it )\n",
    "Below is a program that takes as input the amount you have in the bank (e.g. 100) and the interest percentage (e.g. 2), then print the balance for next 5 years.\n",
    " \n",
    "** point out any problems you see in the below program **"
   ]
  },
  {
   "cell_type": "code",
   "execution_count": null,
   "metadata": {},
   "outputs": [],
   "source": [
    "balance = input()\n",
    "interest = input()\n",
    "\n",
    "balance = balance +  balance * interest\n",
    "print('year 1 balance', balance)\n",
    "balance = balance +  (balance * interest)\n",
    "print('year 2 balance', balance)\n",
    "balance = balance +  (balance * interest)\n",
    "print('year 3 balance', balance)\n",
    "balance = balance +  (balance * interest)\n",
    "print('year 4 balance', balance)\n",
    "balance = balance +  balance * interest\n",
    "print('year 5 balance', balance)"
   ]
  },
  {
   "cell_type": "code",
   "execution_count": null,
   "metadata": {
    "collapsed": true
   },
   "outputs": [],
   "source": []
  },
  {
   "cell_type": "markdown",
   "metadata": {},
   "source": [
    "### Exercise 11 - number is in list\n",
    "Write a program that takes as input a list of numbers and then a number. If the list of numbers contains this number print 'exists' otherwise print 'doesn't exist'.\n",
    "\n",
    "Example:\n",
    "    - a = [1,2,3,4], element = 4, output => exists\n",
    "    - b = [1,5,3,4], element = 2, output => doesn't exist"
   ]
  },
  {
   "cell_type": "code",
   "execution_count": null,
   "metadata": {
    "collapsed": true
   },
   "outputs": [],
   "source": []
  }
 ],
 "metadata": {
  "kernelspec": {
   "display_name": "Python 2.7",
   "language": "python",
   "name": "env27"
  },
  "language_info": {
   "codemirror_mode": {
    "name": "ipython",
    "version": 2
   },
   "file_extension": ".py",
   "mimetype": "text/x-python",
   "name": "python",
   "nbconvert_exporter": "python",
   "pygments_lexer": "ipython2",
   "version": "2.7.13"
  }
 },
 "nbformat": 4,
 "nbformat_minor": 2
}
