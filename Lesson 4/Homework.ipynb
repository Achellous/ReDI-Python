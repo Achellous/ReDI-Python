{
 "cells": [
  {
   "cell_type": "markdown",
   "metadata": {},
   "source": [
    "### Exercise 1 - Multiply every number in the list by 2\n",
    "\n",
    "Write a program that takes a list as an input and multiplies every number in the list by 2\n",
    "\n",
    "Example:\n",
    "    - a = [1,2,3,4], output = [2,4,6,8]\n",
    "\n",
    "Hint: to take a list from user as input:\n",
    "    - Python 2 : list_numbers = input('Enter a list of numbers ')\n",
    "    - Python 3 : list_numbers = eval(input('Enter a list of numbers'))"
   ]
  },
  {
   "cell_type": "markdown",
   "metadata": {},
   "source": [
    "### Exercise 2 - number is in list or not?\n",
    "Write a program that takes as input a list of numbers and then a number. If the list of numbers contains this number print 'exists' otherwise print 'doesn't exist'.\n",
    "\n",
    "Example:\n",
    "    - a = [1,2,3,4], element = 4, output => exists\n",
    "    - b = [1,5,3,4], element = 2, output => doesn't exist"
   ]
  },
  {
   "cell_type": "markdown",
   "metadata": {},
   "source": [
    "### Exercise 3 - Check if a string is a palindrome\n",
    "\n",
    "Write a program that takes as input a string and checks whether it is a palindrome or not.\n",
    "\n",
    "According to wikipedia \"A palindrome is a word, phrase, number, or other sequence of characters which reads the same backward as forward\"\n",
    "\n",
    "Example:\n",
    "    - input= 'madam', output = 'palindrome'\n",
    "    - input = 'hello', output = 'not palindrome'\n",
    "    - input = 'lol', output = 'palindrome'\n",
    "Hint: You can use the reverse function\n"
   ]
  },
  {
   "cell_type": "markdown",
   "metadata": {},
   "source": [
    "### Exercise 4 - Print a pyramid\n",
    "\n",
    "- Take as input a number n from user and print a pyramid shape with base n.\n",
    "\n",
    "- Example:\n",
    "        input = 2\n",
    "        outputs:\n",
    "        *\n",
    "        **\n",
    "        \n",
    "        input = 3\n",
    "        outputs:\n",
    "        *\n",
    "        **\n",
    "        ***\n",
    "        \n",
    "        input = 5\n",
    "        outputs:\n",
    "        *\n",
    "        **\n",
    "        ***\n",
    "        ****\n",
    "        *****\n",
    "\n"
   ]
  },
  {
   "cell_type": "code",
   "execution_count": null,
   "metadata": {
    "collapsed": true
   },
   "outputs": [],
   "source": []
  }
 ],
 "metadata": {
  "kernelspec": {
   "display_name": "Python 2.7",
   "language": "python",
   "name": "env27"
  },
  "language_info": {
   "codemirror_mode": {
    "name": "ipython",
    "version": 2
   },
   "file_extension": ".py",
   "mimetype": "text/x-python",
   "name": "python",
   "nbconvert_exporter": "python",
   "pygments_lexer": "ipython2",
   "version": "2.7.13"
  }
 },
 "nbformat": 4,
 "nbformat_minor": 2
}
