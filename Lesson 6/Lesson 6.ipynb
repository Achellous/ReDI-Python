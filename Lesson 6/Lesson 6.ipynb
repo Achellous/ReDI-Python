{
 "cells": [
  {
   "cell_type": "markdown",
   "metadata": {},
   "source": [
    "## Lesson 6\n"
   ]
  },
  {
   "cell_type": "markdown",
   "metadata": {},
   "source": [
    "### Revisiting lists\n",
    "\n",
    "- List can contain any type of elements, for example:\n",
    "    - list_of_ints = [1,2,3,4] \n",
    "    - list_of_floats = [1.0,5.5,3.4]\n",
    "    - list_of_strs = ['Hello', 'Hi', 'Howdyy']\n",
    "    - mixed_list = ['Hello', 1, 1.5]\n",
    "    \n",
    "\n",
    "    \n"
   ]
  },
  {
   "cell_type": "markdown",
   "metadata": {},
   "source": [
    "### Iterating over lists/strings\n",
    "\n",
    "- There are several ways to iterate over elements in the list, those are a common 3 ways:\n"
   ]
  },
  {
   "cell_type": "code",
   "execution_count": 1,
   "metadata": {},
   "outputs": [
    {
     "name": "stdout",
     "output_type": "stream",
     "text": [
      "1\n",
      "2\n",
      "3\n",
      "4\n"
     ]
    }
   ],
   "source": [
    "## first way\n",
    "number_list = [1,2,3,4]\n",
    "\n",
    "for element in number_list:\n",
    "    print(element)\n",
    "    "
   ]
  },
  {
   "cell_type": "code",
   "execution_count": 3,
   "metadata": {},
   "outputs": [
    {
     "name": "stdout",
     "output_type": "stream",
     "text": [
      "1\n",
      "2\n",
      "3\n",
      "4\n"
     ]
    }
   ],
   "source": [
    "number_list = [1,2,3,4]\n",
    "index = 0\n",
    "while index < len(number_list):\n",
    "    print(number_list[index])\n",
    "    index += 1"
   ]
  },
  {
   "cell_type": "code",
   "execution_count": 4,
   "metadata": {},
   "outputs": [
    {
     "name": "stdout",
     "output_type": "stream",
     "text": [
      "1\n",
      "2\n",
      "3\n",
      "4\n"
     ]
    }
   ],
   "source": [
    "number_list = [1,2,3,4]\n",
    "size = len(number_list)\n",
    "for index in range(size):\n",
    "    print(number_list[index])\n"
   ]
  },
  {
   "cell_type": "markdown",
   "metadata": {},
   "source": [
    "### Exercise 1\n",
    "Write a function that takes two lists at inputs and returns a list that sums the two input lists (element wise). Assume two input lists are of the same size\n",
    "Example:\n",
    " - List 1: [1,2,3] - List 2 = [5,6,7], output = [6, 8, 10]\n",
    " so it sums 1st element from 1st list  with 1st element and 2nd element with 2nd element, and so on\n",
    "\n",
    "\n"
   ]
  },
  {
   "cell_type": "markdown",
   "metadata": {},
   "source": [
    "### Nested lists\n",
    "- List can contain as elements a list, we call this **nested list**"
   ]
  },
  {
   "cell_type": "code",
   "execution_count": 5,
   "metadata": {},
   "outputs": [
    {
     "name": "stdout",
     "output_type": "stream",
     "text": [
      "[['Assignment 1', 5], ['Assignment 2', 10], ['Assignment 3', 15]]\n"
     ]
    }
   ],
   "source": [
    "list_of_lists = [['Assignment 1', 5], ['Assignment 2', 10], ['Assignment 3', 15] ]\n",
    "print(list_of_lists)"
   ]
  },
  {
   "cell_type": "code",
   "execution_count": 6,
   "metadata": {},
   "outputs": [
    {
     "data": {
      "text/plain": [
       "3"
      ]
     },
     "execution_count": 6,
     "metadata": {},
     "output_type": "execute_result"
    }
   ],
   "source": [
    "len(list_of_lists)"
   ]
  },
  {
   "cell_type": "code",
   "execution_count": 7,
   "metadata": {},
   "outputs": [
    {
     "data": {
      "text/plain": [
       "['Assignment 1', 5]"
      ]
     },
     "execution_count": 7,
     "metadata": {},
     "output_type": "execute_result"
    }
   ],
   "source": [
    "list_of_lists[0]"
   ]
  },
  {
   "cell_type": "code",
   "execution_count": 8,
   "metadata": {},
   "outputs": [
    {
     "data": {
      "text/plain": [
       "'Assignment 1'"
      ]
     },
     "execution_count": 8,
     "metadata": {},
     "output_type": "execute_result"
    }
   ],
   "source": [
    "list_of_lists[0][0]"
   ]
  },
  {
   "cell_type": "code",
   "execution_count": 22,
   "metadata": {},
   "outputs": [
    {
     "data": {
      "text/plain": [
       "2"
      ]
     },
     "execution_count": 22,
     "metadata": {},
     "output_type": "execute_result"
    }
   ],
   "source": [
    "len(list_of_lists[0])"
   ]
  },
  {
   "cell_type": "markdown",
   "metadata": {},
   "source": [
    "### Exercise 2"
   ]
  },
  {
   "cell_type": "markdown",
   "metadata": {},
   "source": [
    "Given a list of soccer match scores for  team x , where each element in the list is a two element list. The first element is the score of team x and the second element is the score of the other team.\n",
    "\n",
    "\n",
    "\n",
    "\n",
    "Write a function to calculate the overall score of the team  (win is 3 points, draw is 1 point and lose is 0 points)\n",
    "        \n",
    "** Example **\n",
    "\n",
    "match_scores = [[3,2], [4,1], [1,1], [0,1], [0,2]]\n",
    "\n",
    "overall score = 3+3+1 = 7\n",
    "\n",
    "** Hint** We will use the function we did last lesson\n",
    "\n",
    "\n",
    "\n",
    "\n",
    "\n",
    "\n",
    "\n"
   ]
  },
  {
   "cell_type": "code",
   "execution_count": 24,
   "metadata": {},
   "outputs": [],
   "source": [
    "def calculate_score(score_list):\n",
    "    total_score = 0\n",
    "    for game in score_list:\n",
    "        if game == 'W':\n",
    "            total_score = total_score +3\n",
    "        elif game == 'D':\n",
    "            total_score = total_score + 1\n",
    "    return total_score\n",
    "\n",
    "man_united_results = ['W', 'D', 'W', 'L', 'W', 'D', 'D', 'D']\n",
    "score = calculate_score(man_united_results)\n"
   ]
  },
  {
   "cell_type": "markdown",
   "metadata": {},
   "source": [
    "### Exercise 3\n",
    "Write a function that given a list of student grades , each element is a list of size 2, where first element is the assignment name and the second element is the grade, calculate the average grade for student\n",
    "\n",
    "Example:\n",
    "\n",
    "    grades_list = [['Assignment 1', 5], ['Assignment 2', 10], ['Assignment 3', 15], ['Assignment 4', 5] ]\n",
    "    output = 8.75"
   ]
  },
  {
   "cell_type": "markdown",
   "metadata": {},
   "source": [
    "### Exercise 4\n",
    "\n",
    "\n",
    "write a function that given a list of lists , returns the maximum number, Assume all numbers in the list are positive. Do not use **max** function.\n",
    "\n",
    "\n",
    "Example:\n",
    "        \n",
    "        numbers_list = [[1,2,3], [5,6,10,1], [4,3,2]]\n",
    "        output = 10 \n",
    "\n",
    "\n",
    "\n"
   ]
  },
  {
   "cell_type": "markdown",
   "metadata": {},
   "source": [
    "### Exercise 5\n",
    "write a function that given a list of lists , returns the sum of numbers in the list. Do not use **sum** function\n",
    "\n",
    "Example:\n",
    "    \n",
    "    numbers_list = [[1,2,3], [5,6,10,1], [4,3,2]]\n",
    "    output = 10 "
   ]
  },
  {
   "cell_type": "code",
   "execution_count": null,
   "metadata": {
    "collapsed": true
   },
   "outputs": [],
   "source": []
  }
 ],
 "metadata": {
  "kernelspec": {
   "display_name": "Python 2.7",
   "language": "python",
   "name": "env27"
  },
  "language_info": {
   "codemirror_mode": {
    "name": "ipython",
    "version": 2
   },
   "file_extension": ".py",
   "mimetype": "text/x-python",
   "name": "python",
   "nbconvert_exporter": "python",
   "pygments_lexer": "ipython2",
   "version": "2.7.13"
  }
 },
 "nbformat": 4,
 "nbformat_minor": 2
}
