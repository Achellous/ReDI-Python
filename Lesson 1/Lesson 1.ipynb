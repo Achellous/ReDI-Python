{
 "cells": [
  {
   "cell_type": "markdown",
   "metadata": {
    "slideshow": {
     "slide_type": "slide"
    }
   },
   "source": [
    "# Lesson 1\n",
    "\n",
    "1. What is a program?\n",
    "2. Python as a calculator\n",
    "3. Variables\n"
   ]
  },
  {
   "cell_type": "markdown",
   "metadata": {
    "collapsed": true,
    "slideshow": {
     "slide_type": "slide"
    }
   },
   "source": [
    "### What is a program?"
   ]
  },
  {
   "cell_type": "markdown",
   "metadata": {
    "slideshow": {
     "slide_type": "subslide"
    }
   },
   "source": [
    "\n",
    "<img src=\"images/windows-10-explorer.png\">\n",
    "<table>\n",
    "<tr  style='background-color:white'>\n",
    "<td><img src=\"images/calculator.png\"  style= 'display:inline;'> </td>\n",
    "<td><img src=\"images/chrome.jpg\" style= 'display:inline;'> </td>\n",
    "</tr>\n",
    "</table>"
   ]
  },
  {
   "cell_type": "markdown",
   "metadata": {},
   "source": [
    "### Programming languages \n",
    "\n",
    "<table>\n",
    "<tr  style='background-color:white'>\n",
    "<td><img src=\"images/java.png\"  style= 'display:inline;'> </td>\n",
    "<td><img src=\"images/c_plus.png\" style= 'display:inline;'> </td>\n",
    "<td><img src=\"images/python.jpeg\" style= 'display:inline;'> </td>\n",
    "\n",
    "<tr>\n",
    "</table>"
   ]
  },
  {
   "cell_type": "markdown",
   "metadata": {},
   "source": [
    "##  Why Python?\n",
    "### Easy language + Huge Capabilities + Online Support\n",
    "\n",
    "<table>\n",
    "<tr>\n",
    "<th>Python </th>\n",
    "<th> Java </th>\n",
    "<th>C++</th>\n",
    "<th>Ruby </th>\n",
    "</tr>\n",
    "<tr  style='background-color:white'>\n",
    "<td><img src=\"images/hello_world_python_.png\" style= 'display:inline;'> </td>\n",
    "<td><img src=\"images/hello_world_java.png\"  style= 'display:inline;'> </td>\n",
    "<td><img src=\"images/hello_world_c_plus.png\" style= 'display:inline;'> </td>\n",
    "<td><img src=\"images/hello_world_ruby.png\" style= 'display:inline;'> </td>\n",
    "</tr>\n",
    "</table>\n",
    "<table>\n",
    "<tr>\n",
    "<td>\n",
    "<img src=\"images/why_python.png\" style= 'display:inline;'>\n",
    "source: https://en.wikipedia.org/wiki/Programming_languages_used_in_most_popular_websites\n",
    "</td>\n",
    "</tr>\n",
    "</table>\n",
    "\n"
   ]
  },
  {
   "cell_type": "markdown",
   "metadata": {},
   "source": [
    "## Running your first python program\n",
    "\n",
    "1. Open PyCharm\n",
    "2. Open python_examples folder\n",
    "3. Run hello_world.py\n"
   ]
  },
  {
   "cell_type": "markdown",
   "metadata": {},
   "source": [
    "## Writing your first program\n",
    " - print out your name instead of 'Hello World'\n",
    " - rerun hello_world.py"
   ]
  },
  {
   "cell_type": "markdown",
   "metadata": {},
   "source": [
    "### Using Python Shell\n",
    "- View -> Tool Windows -> Python Shell\n"
   ]
  },
  {
   "cell_type": "markdown",
   "metadata": {},
   "source": [
    "### Using Python as a calculator\n",
    "- Operators: \n",
    "    - +\n",
    "    - - \n",
    "    - *\n",
    "    - /\n",
    "    - // \n",
    "    - %\n",
    "- Types: int vs float\n",
    "- Precedence"
   ]
  },
  {
   "cell_type": "markdown",
   "metadata": {},
   "source": [
    "### Errors\n",
    "- Syntax Errors\n",
    "- Semantic Errors\n"
   ]
  },
  {
   "cell_type": "markdown",
   "metadata": {},
   "source": [
    "### Variables"
   ]
  },
  {
   "cell_type": "code",
   "execution_count": null,
   "metadata": {
    "collapsed": true
   },
   "outputs": [],
   "source": []
  }
 ],
 "metadata": {
  "celltoolbar": "Slideshow",
  "kernelspec": {
   "display_name": "Python 3",
   "language": "python",
   "name": "python3"
  },
  "language_info": {
   "codemirror_mode": {
    "name": "ipython",
    "version": 3
   },
   "file_extension": ".py",
   "mimetype": "text/x-python",
   "name": "python",
   "nbconvert_exporter": "python",
   "pygments_lexer": "ipython3",
   "version": "3.6.1"
  }
 },
 "nbformat": 4,
 "nbformat_minor": 2
}
