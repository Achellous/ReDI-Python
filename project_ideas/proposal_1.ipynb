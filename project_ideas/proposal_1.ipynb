{
 "cells": [
  {
   "cell_type": "markdown",
   "metadata": {},
   "source": [
    "## Project 1 - Chatbot"
   ]
  },
  {
   "cell_type": "markdown",
   "metadata": {},
   "source": [
    "# Inspiration\n",
    "<img src='images/superman.png'/>\n",
    "\n",
    "link: https://chatbotsmagazine.com/25-of-the-best-facebook-bots-to-chat-with-f159bca02dce"
   ]
  },
  {
   "cell_type": "markdown",
   "metadata": {},
   "source": [
    "### Phase 1 - Echo Bot\n",
    "short description : an annoying bot that repeats everything you say until you say 'I am leaving'"
   ]
  },
  {
   "attachments": {},
   "cell_type": "markdown",
   "metadata": {},
   "source": [
    "<img src='images/phase_smaller.png'/>"
   ]
  },
  {
   "cell_type": "markdown",
   "metadata": {},
   "source": [
    "### Phase 2 - Zero IQ Bot (German & English)"
   ]
  },
  {
   "cell_type": "markdown",
   "metadata": {},
   "source": [
    "Given a set of template question-answers. If someone asks a question, bot will respond \n",
    "with corresponding answer, if he types something else, it simply says \n",
    "\"Sorry, I don't have an answer to this, try asking another question\"\n",
    "A user at any point can switch between english and german when user types 'speak english'/\n",
    "'speak german'"
   ]
  },
  {
   "cell_type": "markdown",
   "metadata": {},
   "source": [
    "<table>\n",
    "<tr> <th> Language </th> <th>Question </th> <th>  Answer</th> </tr>\n",
    "<tr> <td> English </td> <td> Hello </td> <td> Hello, I am Zero IQ Bot, what's your name? </td> </tr>\n",
    "<tr> <td> English </td> <td> My name is xxx </td> <td> What a nice name xxx, What would you like to ask about?</td> </tr>\n",
    "<tr> <td> English</td> <td> Where do I need to register in germany?</td> <td> You need to go to Bürgeramt </td> </tr>\n",
    "<tr> <td> English </td> <td> Bye </td> <td> Goodbye, talk to you later </td> </tr>\n",
    "<tr> <td> German </td> <td> Hallo </td> <td> Hallo. Mein name ist Null IQ Bot, Wie heißen Sie? </td> </tr>\n",
    "<tr> <td> German </td> <td>Ich heiße xxx </td> <td> Hallo xxx, Was möchecten Sie? </td> </tr>\n",
    "<tr> <td> German </td> <td> wo kann man sich registrieren?</td> <td> Sie mussen zum Bürgeramt gehen </td> </tr>\n",
    "<tr> <td> German </td> <td> Tschüss </td> <td> Auf Wiedersehen </td> </tr>\n",
    "\n",
    "</table>"
   ]
  },
  {
   "cell_type": "markdown",
   "metadata": {},
   "source": [
    "### Phase 3 - Apportunity Bot"
   ]
  },
  {
   "cell_type": "code",
   "execution_count": null,
   "metadata": {
    "collapsed": true
   },
   "outputs": [],
   "source": [
    "1. Bot says hi and asks about your name\n",
    "2. it then greets the user by name\n",
    "3. Asks him which of the below topics he like?\n",
    "4. User chooses one topic\n",
    "5. Bot shows the user the opportunities for each topic\n",
    "6. User asks about more information for a specific opportunity\n",
    "7. Bot tells him details about it and a contact email for more info\n",
    "8. Bot asks if he would like to ask about another topic\n",
    "9. if Yes, Go back to step 5, if no, Bot tells the user Goodbye "
   ]
  }
 ],
 "metadata": {
  "kernelspec": {
   "display_name": "Python 3",
   "language": "python",
   "name": "python3"
  },
  "language_info": {
   "codemirror_mode": {
    "name": "ipython",
    "version": 3
   },
   "file_extension": ".py",
   "mimetype": "text/x-python",
   "name": "python",
   "nbconvert_exporter": "python",
   "pygments_lexer": "ipython3",
   "version": "3.6.1"
  }
 },
 "nbformat": 4,
 "nbformat_minor": 2
}
