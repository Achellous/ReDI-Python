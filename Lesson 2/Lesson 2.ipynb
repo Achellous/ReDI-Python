{
 "cells": [
  {
   "cell_type": "markdown",
   "metadata": {
    "slideshow": {
     "slide_type": "slide"
    }
   },
   "source": [
    "## Lesson 2\n",
    "- First step towards interactive programs\n",
    "- write your first interactive program\n",
    "- Conditional Operations\n",
    "- write your first conditional program"
   ]
  },
  {
   "attachments": {},
   "cell_type": "markdown",
   "metadata": {
    "slideshow": {
     "slide_type": "slide"
    }
   },
   "source": [
    "### Input & Output\n",
    "\n",
    "- A lot of programs depend on input from the user, e.g. click of a button or text he types in a searchbar\n",
    "- Output for now we use *print* function\n",
    "- Input we can use *input* function\n",
    "- Try it out:\n",
    "        print('Enter any text')\n",
    "        user_input = input()\n",
    "        print(\"This is the user's input:\")\n",
    "        print(user_input)\n",
    "    "
   ]
  },
  {
   "attachments": {},
   "cell_type": "markdown",
   "metadata": {
    "slideshow": {
     "slide_type": "slide"
    }
   },
   "source": [
    "### Data Types\n",
    "\n",
    "- int \n",
    "- float\n",
    "- string\n",
    "- ...\n",
    "\n",
    "        var1 = 10\n",
    "        var2 = 30\n",
    "        var3 = \"Hello\"\n",
    "        var4 = 'Hello'\n",
    "        type(var1)\n",
    "\n",
    "- *type* function can be used to know what is the type of variable\n",
    "- What is the type of input we take from user?"
   ]
  },
  {
   "cell_type": "markdown",
   "metadata": {
    "slideshow": {
     "slide_type": "notes"
    }
   },
   "source": [
    "- Taking string as input from user will that be a problem or not?\n",
    "- why do we use int or float variables? => we can be able to apply mathematical operations \n",
    "- try \"10\" / 2"
   ]
  },
  {
   "cell_type": "markdown",
   "metadata": {},
   "source": [
    "### Excerise 1 - Your first interactive program\n",
    "\n",
    "Part 1:\n",
    "- Given the radius of a circle, we would like to print out both circumference and area.\n",
    "- Hints:\n",
    "    - circumference = $2 {\\pi} r $\n",
    "    - area = ${\\pi} r^2$\n",
    "    - you can assume ${\\pi} = 3.14 $\n",
    "\n",
    "Part 2:\n",
    "- What if we want to the user to tell us whether he wants to calculate area or circumference?\n",
    "- What else do we need?"
   ]
  },
  {
   "cell_type": "markdown",
   "metadata": {
    "slideshow": {
     "slide_type": "slide"
    }
   },
   "source": [
    "## Conditional Operations\n",
    "\n",
    "- Test a certain condition\n",
    "- Depending on this condition, decide what are the next steps\n",
    "\n",
    "\n"
   ]
  },
  {
   "cell_type": "code",
   "execution_count": null,
   "metadata": {
    "collapsed": true,
    "slideshow": {
     "slide_type": "subslide"
    }
   },
   "outputs": [],
   "source": [
    "weather = input()\n",
    "if(weather == 'Sunny'):\n",
    "    print('Go out and enjoy the sun')\n",
    "else:\n",
    "    print('Stay Home')"
   ]
  },
  {
   "cell_type": "markdown",
   "metadata": {
    "collapsed": true,
    "slideshow": {
     "slide_type": "slide"
    }
   },
   "source": [
    "### How to write conditional operations? (Syntax)\n",
    "\n",
    "    if(condition):\n",
    "        # perform operations when condition is true\n",
    "    else:\n",
    "        # perform operations when condition is false"
   ]
  },
  {
   "cell_type": "markdown",
   "metadata": {
    "collapsed": true,
    "slideshow": {
     "slide_type": "subslide"
    }
   },
   "source": [
    "#### How to write conditions?\n",
    "- What is difference between?\n",
    "\n",
    "        weather = 'Sunny'\n",
    "        weather == 'Sunny'\n",
    " \n",
    "- More operators: ==, >= , <=, !=, >, <\n",
    "        \n",
    "        num = 10\n",
    "        num > 5\n",
    "        num >= 10\n",
    "        num != 10\n",
    "        num == 10\n",
    "- What is type for these conditions ? "
   ]
  },
  {
   "cell_type": "markdown",
   "metadata": {
    "slideshow": {
     "slide_type": "slide"
    }
   },
   "source": [
    "### Exercise 2 - Your first conditional program\n",
    "- Given a number as input, print the absolute of it\n",
    "- Examples:\n",
    "    - n=10  \n",
    "        - output is same as input, it should be 10\n",
    "    - n= -10\n",
    "        - output should be 10\n",
    "    - n=0\n",
    "        - output is  0\n",
    "    \n"
   ]
  },
  {
   "cell_type": "code",
   "execution_count": null,
   "metadata": {
    "collapsed": true
   },
   "outputs": [],
   "source": []
  }
 ],
 "metadata": {
  "celltoolbar": "Slideshow",
  "kernelspec": {
   "display_name": "Python 3",
   "language": "python",
   "name": "python3"
  },
  "language_info": {
   "codemirror_mode": {
    "name": "ipython",
    "version": 3
   },
   "file_extension": ".py",
   "mimetype": "text/x-python",
   "name": "python",
   "nbconvert_exporter": "python",
   "pygments_lexer": "ipython3",
   "version": "3.6.1"
  }
 },
 "nbformat": 4,
 "nbformat_minor": 2
}
